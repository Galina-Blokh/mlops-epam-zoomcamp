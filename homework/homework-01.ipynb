{
 "cells": [
  {
   "cell_type": "markdown",
   "id": "47712092-25f1-46fb-9342-52ccb2fb5c13",
   "metadata": {},
   "source": [
    "# Homework\n"
   ]
  },
  {
   "cell_type": "markdown",
   "id": "b3844115-4a95-4082-8e40-a68ccb5425ac",
   "metadata": {},
   "source": [
    "#### The goal of this homework is to train a simple model for predicting the duration of a ride - similar to what we did in this module."
   ]
  },
  {
   "cell_type": "markdown",
   "id": "2ae4de46-1ca5-45ad-9d04-6eeb6afcb6d5",
   "metadata": {},
   "source": [
    "## Imports"
   ]
  },
  {
   "cell_type": "code",
   "execution_count": 4,
   "id": "bb4186e3-94cf-4bce-b36b-71e89b732710",
   "metadata": {
    "id": "bb4186e3-94cf-4bce-b36b-71e89b732710"
   },
   "outputs": [],
   "source": [
    "import pandas as pd\n",
    "\n",
    "from sklearn.feature_extraction import DictVectorizer\n",
    "from sklearn.linear_model import LinearRegression\n",
    "from sklearn.metrics import mean_squared_error\n",
    "\n",
    "import seaborn as sns\n",
    "import matplotlib.pyplot as plt\n",
    "\n",
    "import warnings\n",
    "warnings.filterwarnings('ignore')"
   ]
  },
  {
   "cell_type": "markdown",
   "id": "97yfKrCqBVSc",
   "metadata": {
    "id": "97yfKrCqBVSc"
   },
   "source": [
    "### Q1. Downloading the data\n",
    "\n"
   ]
  },
  {
   "cell_type": "markdown",
   "id": "991114d9-9f2d-4090-9a92-131b19cbed05",
   "metadata": {},
   "source": [
    "##### We'll use [the same NYC taxi dataset](https://www1.nyc.gov/site/tlc/about/tlc-trip-record-data.page), but instead of \"**Green** Taxi Trip Records\", we'll use \"**Yellow** Taxi Trip Records\".\n",
    "\n",
    "#### Download the data for January and February 2023.\n"
   ]
  },
  {
   "cell_type": "code",
   "execution_count": 7,
   "id": "be11bf55-f94b-433e-ae7c-4ded2521997c",
   "metadata": {},
   "outputs": [
    {
     "name": "stdout",
     "output_type": "stream",
     "text": [
      "/Users/epam/.zshenv:12: command not found: Next\n",
      "--2024-08-05 23:57:17--  https://d37ci6vzurychx.cloudfront.net/trip-data/yellow_tripdata_2023-01.parquet\n",
      "Resolving d37ci6vzurychx.cloudfront.net (d37ci6vzurychx.cloudfront.net)... 52.84.111.30, 52.84.111.52, 52.84.111.169, ...\n",
      "Connecting to d37ci6vzurychx.cloudfront.net (d37ci6vzurychx.cloudfront.net)|52.84.111.30|:443... connected.\n",
      "HTTP request sent, awaiting response... 200 OK\n",
      "Length: 47673370 (45M) [application/x-www-form-urlencoded]\n",
      "Saving to: ‘yellow_tripdata_2023-01.parquet’\n",
      "\n",
      "yellow_tripdata_202 100%[===================>]  45.46M  33.5MB/s    in 1.4s    \n",
      "\n",
      "2024-08-05 23:57:19 (33.5 MB/s) - ‘yellow_tripdata_2023-01.parquet’ saved [47673370/47673370]\n",
      "\n",
      "/Users/epam/.zshenv:12: command not found: Next\n",
      "--2024-08-05 23:57:19--  https://d37ci6vzurychx.cloudfront.net/trip-data/yellow_tripdata_2023-02.parquet\n",
      "Resolving d37ci6vzurychx.cloudfront.net (d37ci6vzurychx.cloudfront.net)... 52.84.111.30, 52.84.111.52, 52.84.111.169, ...\n",
      "Connecting to d37ci6vzurychx.cloudfront.net (d37ci6vzurychx.cloudfront.net)|52.84.111.30|:443... connected.\n",
      "HTTP request sent, awaiting response... 200 OK\n",
      "Length: 47748012 (46M) [application/x-www-form-urlencoded]\n",
      "Saving to: ‘yellow_tripdata_2023-02.parquet’\n",
      "\n",
      "yellow_tripdata_202 100%[===================>]  45.54M  32.8MB/s    in 1.4s    \n",
      "\n",
      "2024-08-05 23:57:21 (32.8 MB/s) - ‘yellow_tripdata_2023-02.parquet’ saved [47748012/47748012]\n",
      "\n"
     ]
    }
   ],
   "source": [
    "!wget https://d37ci6vzurychx.cloudfront.net/trip-data/yellow_tripdata_2023-01.parquet\n",
    "!wget https://d37ci6vzurychx.cloudfront.net/trip-data/yellow_tripdata_2023-02.parquet"
   ]
  },
  {
   "cell_type": "markdown",
   "id": "fde7a36d-1d71-4262-80a0-7f3a695ac694",
   "metadata": {},
   "source": [
    "\n",
    "#### Read the data for January. \n"
   ]
  },
  {
   "cell_type": "code",
   "execution_count": 9,
   "id": "cbe379c6-5a79-491b-af10-c85039a1d13c",
   "metadata": {
    "id": "cbe379c6-5a79-491b-af10-c85039a1d13c"
   },
   "outputs": [],
   "source": [
    "yellow_tripdata_2023_01 = pd.read_parquet('yellow_tripdata_2023-01.parquet')"
   ]
  },
  {
   "cell_type": "code",
   "execution_count": 10,
   "id": "5734a2c9-c0d6-4e6f-8fe8-806dc3927d26",
   "metadata": {},
   "outputs": [
    {
     "data": {
      "text/html": [
       "<div>\n",
       "<style scoped>\n",
       "    .dataframe tbody tr th:only-of-type {\n",
       "        vertical-align: middle;\n",
       "    }\n",
       "\n",
       "    .dataframe tbody tr th {\n",
       "        vertical-align: top;\n",
       "    }\n",
       "\n",
       "    .dataframe thead th {\n",
       "        text-align: right;\n",
       "    }\n",
       "</style>\n",
       "<table border=\"1\" class=\"dataframe\">\n",
       "  <thead>\n",
       "    <tr style=\"text-align: right;\">\n",
       "      <th></th>\n",
       "      <th>VendorID</th>\n",
       "      <th>tpep_pickup_datetime</th>\n",
       "      <th>tpep_dropoff_datetime</th>\n",
       "      <th>passenger_count</th>\n",
       "      <th>trip_distance</th>\n",
       "      <th>RatecodeID</th>\n",
       "      <th>store_and_fwd_flag</th>\n",
       "      <th>PULocationID</th>\n",
       "      <th>DOLocationID</th>\n",
       "      <th>payment_type</th>\n",
       "      <th>fare_amount</th>\n",
       "      <th>extra</th>\n",
       "      <th>mta_tax</th>\n",
       "      <th>tip_amount</th>\n",
       "      <th>tolls_amount</th>\n",
       "      <th>improvement_surcharge</th>\n",
       "      <th>total_amount</th>\n",
       "      <th>congestion_surcharge</th>\n",
       "      <th>airport_fee</th>\n",
       "    </tr>\n",
       "  </thead>\n",
       "  <tbody>\n",
       "    <tr>\n",
       "      <th>0</th>\n",
       "      <td>2</td>\n",
       "      <td>2023-01-01 00:32:10</td>\n",
       "      <td>2023-01-01 00:40:36</td>\n",
       "      <td>1.0</td>\n",
       "      <td>0.97</td>\n",
       "      <td>1.0</td>\n",
       "      <td>N</td>\n",
       "      <td>161</td>\n",
       "      <td>141</td>\n",
       "      <td>2</td>\n",
       "      <td>9.3</td>\n",
       "      <td>1.0</td>\n",
       "      <td>0.5</td>\n",
       "      <td>0.0</td>\n",
       "      <td>0.0</td>\n",
       "      <td>1.0</td>\n",
       "      <td>14.3</td>\n",
       "      <td>2.5</td>\n",
       "      <td>0.0</td>\n",
       "    </tr>\n",
       "    <tr>\n",
       "      <th>1</th>\n",
       "      <td>2</td>\n",
       "      <td>2023-01-01 00:55:08</td>\n",
       "      <td>2023-01-01 01:01:27</td>\n",
       "      <td>1.0</td>\n",
       "      <td>1.10</td>\n",
       "      <td>1.0</td>\n",
       "      <td>N</td>\n",
       "      <td>43</td>\n",
       "      <td>237</td>\n",
       "      <td>1</td>\n",
       "      <td>7.9</td>\n",
       "      <td>1.0</td>\n",
       "      <td>0.5</td>\n",
       "      <td>4.0</td>\n",
       "      <td>0.0</td>\n",
       "      <td>1.0</td>\n",
       "      <td>16.9</td>\n",
       "      <td>2.5</td>\n",
       "      <td>0.0</td>\n",
       "    </tr>\n",
       "    <tr>\n",
       "      <th>2</th>\n",
       "      <td>2</td>\n",
       "      <td>2023-01-01 00:25:04</td>\n",
       "      <td>2023-01-01 00:37:49</td>\n",
       "      <td>1.0</td>\n",
       "      <td>2.51</td>\n",
       "      <td>1.0</td>\n",
       "      <td>N</td>\n",
       "      <td>48</td>\n",
       "      <td>238</td>\n",
       "      <td>1</td>\n",
       "      <td>14.9</td>\n",
       "      <td>1.0</td>\n",
       "      <td>0.5</td>\n",
       "      <td>15.0</td>\n",
       "      <td>0.0</td>\n",
       "      <td>1.0</td>\n",
       "      <td>34.9</td>\n",
       "      <td>2.5</td>\n",
       "      <td>0.0</td>\n",
       "    </tr>\n",
       "  </tbody>\n",
       "</table>\n",
       "</div>"
      ],
      "text/plain": [
       "   VendorID tpep_pickup_datetime tpep_dropoff_datetime  passenger_count  \\\n",
       "0         2  2023-01-01 00:32:10   2023-01-01 00:40:36              1.0   \n",
       "1         2  2023-01-01 00:55:08   2023-01-01 01:01:27              1.0   \n",
       "2         2  2023-01-01 00:25:04   2023-01-01 00:37:49              1.0   \n",
       "\n",
       "   trip_distance  RatecodeID store_and_fwd_flag  PULocationID  DOLocationID  \\\n",
       "0           0.97         1.0                  N           161           141   \n",
       "1           1.10         1.0                  N            43           237   \n",
       "2           2.51         1.0                  N            48           238   \n",
       "\n",
       "   payment_type  fare_amount  extra  mta_tax  tip_amount  tolls_amount  \\\n",
       "0             2          9.3    1.0      0.5         0.0           0.0   \n",
       "1             1          7.9    1.0      0.5         4.0           0.0   \n",
       "2             1         14.9    1.0      0.5        15.0           0.0   \n",
       "\n",
       "   improvement_surcharge  total_amount  congestion_surcharge  airport_fee  \n",
       "0                    1.0          14.3                   2.5          0.0  \n",
       "1                    1.0          16.9                   2.5          0.0  \n",
       "2                    1.0          34.9                   2.5          0.0  "
      ]
     },
     "execution_count": 10,
     "metadata": {},
     "output_type": "execute_result"
    }
   ],
   "source": [
    "yellow_tripdata_2023_01.head(3)"
   ]
  },
  {
   "cell_type": "code",
   "execution_count": 11,
   "id": "4e7eeb8e-b1a8-426a-b9c6-fe8742c65500",
   "metadata": {},
   "outputs": [
    {
     "name": "stdout",
     "output_type": "stream",
     "text": [
      "<class 'pandas.core.frame.DataFrame'>\n",
      "RangeIndex: 3066766 entries, 0 to 3066765\n",
      "Data columns (total 19 columns):\n",
      " #   Column                 Dtype         \n",
      "---  ------                 -----         \n",
      " 0   VendorID               int64         \n",
      " 1   tpep_pickup_datetime   datetime64[us]\n",
      " 2   tpep_dropoff_datetime  datetime64[us]\n",
      " 3   passenger_count        float64       \n",
      " 4   trip_distance          float64       \n",
      " 5   RatecodeID             float64       \n",
      " 6   store_and_fwd_flag     object        \n",
      " 7   PULocationID           int64         \n",
      " 8   DOLocationID           int64         \n",
      " 9   payment_type           int64         \n",
      " 10  fare_amount            float64       \n",
      " 11  extra                  float64       \n",
      " 12  mta_tax                float64       \n",
      " 13  tip_amount             float64       \n",
      " 14  tolls_amount           float64       \n",
      " 15  improvement_surcharge  float64       \n",
      " 16  total_amount           float64       \n",
      " 17  congestion_surcharge   float64       \n",
      " 18  airport_fee            float64       \n",
      "dtypes: datetime64[us](2), float64(12), int64(4), object(1)\n",
      "memory usage: 444.6+ MB\n"
     ]
    }
   ],
   "source": [
    "yellow_tripdata_2023_01.info()"
   ]
  },
  {
   "cell_type": "markdown",
   "id": "bddb6564-3355-4cad-94e5-ee498f818972",
   "metadata": {},
   "source": [
    "#### How many columns are there?"
   ]
  },
  {
   "cell_type": "code",
   "execution_count": 13,
   "id": "f4d91c0c-e888-4099-9aeb-13bfec102ad9",
   "metadata": {},
   "outputs": [
    {
     "name": "stdout",
     "output_type": "stream",
     "text": [
      "In \"Yellow Taxi Trip Records\" for for January 2023 there are 19 columns\n"
     ]
    }
   ],
   "source": [
    "print(f'In \"Yellow Taxi Trip Records\" for for January 2023 there are {yellow_tripdata_2023_01.shape[1]} columns')"
   ]
  },
  {
   "cell_type": "markdown",
   "id": "pWrLGUESBed6",
   "metadata": {
    "id": "pWrLGUESBed6"
   },
   "source": [
    "### Q2. Computing duration"
   ]
  },
  {
   "cell_type": "markdown",
   "id": "2acb49f6-903a-4ba1-9ea4-8451b601a3a1",
   "metadata": {},
   "source": [
    "#### Now let's compute the `duration` variable. It should contain the duration of a ride in minutes. \n",
    "\n"
   ]
  },
  {
   "cell_type": "code",
   "execution_count": 16,
   "id": "b186962d-7ee1-4b97-a457-7ef2b2de811a",
   "metadata": {
    "id": "b186962d-7ee1-4b97-a457-7ef2b2de811a"
   },
   "outputs": [
    {
     "data": {
      "text/plain": [
       "0     8.433333\n",
       "1     6.316667\n",
       "2    12.750000\n",
       "Name: duration, dtype: float64"
      ]
     },
     "execution_count": 16,
     "metadata": {},
     "output_type": "execute_result"
    }
   ],
   "source": [
    "yellow_tripdata_2023_01['duration'] = yellow_tripdata_2023_01.apply(lambda x: x['tpep_dropoff_datetime']-x['tpep_pickup_datetime'],axis=1 ).dt.total_seconds()/60\n",
    "yellow_tripdata_2023_01['duration'][:3]"
   ]
  },
  {
   "cell_type": "markdown",
   "id": "6d736606-56c1-449f-b39f-10eab904e224",
   "metadata": {},
   "source": [
    "#### What's the standard deviation of the trips duration in January?"
   ]
  },
  {
   "cell_type": "code",
   "execution_count": 18,
   "id": "9da88772-b29c-4c46-8859-7c28ac2be021",
   "metadata": {
    "colab": {
     "base_uri": "https://localhost:8080/"
    },
    "id": "9da88772-b29c-4c46-8859-7c28ac2be021",
    "outputId": "d8bc9a61-e953-400a-98a5-9613b8bc7021",
    "tags": []
   },
   "outputs": [
    {
     "name": "stdout",
     "output_type": "stream",
     "text": [
      "The Standart Deviation of the trips duration in January 2023 is 42.59 minutes\n"
     ]
    }
   ],
   "source": [
    "print(f'The Standart Deviation of the trips duration in January 2023 is {round(yellow_tripdata_2023_01[\"duration\"].std(),2)} minutes')"
   ]
  },
  {
   "cell_type": "markdown",
   "id": "ca0c395a-d5cf-4870-aa64-edb4809bc662",
   "metadata": {
    "id": "ca0c395a-d5cf-4870-aa64-edb4809bc662"
   },
   "source": [
    "### Q3. Dropping outliers"
   ]
  },
  {
   "cell_type": "markdown",
   "id": "a3638a9f-5ffd-490c-8a79-c550e990e017",
   "metadata": {},
   "source": [
    "#### Next, we need to check the distribution of the `duration` variable. There are some outliers. Let's remove them and keep only the records where the duration was between 1 and 60 minutes (inclusive).\n",
    "\n"
   ]
  },
  {
   "cell_type": "code",
   "execution_count": 21,
   "id": "d13df17c-462a-4d77-bca3-25aeb237c8df",
   "metadata": {},
   "outputs": [
    {
     "data": {
      "text/plain": [
       "count    3.066766e+06\n",
       "mean     1.566900e+01\n",
       "std      4.259435e+01\n",
       "min     -2.920000e+01\n",
       "25%      7.116667e+00\n",
       "50%      1.151667e+01\n",
       "75%      1.830000e+01\n",
       "max      1.002918e+04\n",
       "Name: duration, dtype: float64"
      ]
     },
     "execution_count": 21,
     "metadata": {},
     "output_type": "execute_result"
    }
   ],
   "source": [
    "yellow_tripdata_2023_01.duration.describe()"
   ]
  },
  {
   "cell_type": "code",
   "execution_count": 22,
   "id": "2d8dbcdc-0a45-4ece-b0d6-df2eb9af709c",
   "metadata": {},
   "outputs": [
    {
     "data": {
      "image/png": "[encoded data removed]",
      "text/plain": [
       "<Figure size 640x480 with 1 Axes>"
      ]
     },
     "metadata": {},
     "output_type": "display_data"
    }
   ],
   "source": [
    "yellow_tripdata_2023_01.duration.plot(title=\"Distribution of `DURATION` before we drop outliers\");"
   ]
  },
  {
   "cell_type": "code",
   "execution_count": 23,
   "id": "0fd4307e-f3b6-45ba-bf1d-82e4a1c09a9b",
   "metadata": {
    "id": "0fd4307e-f3b6-45ba-bf1d-82e4a1c09a9b"
   },
   "outputs": [],
   "source": [
    "yellow_tripdata_2023_01_no_outliers = yellow_tripdata_2023_01.where((yellow_tripdata_2023_01.duration >=1) & (yellow_tripdata_2023_01.duration<=60))"
   ]
  },
  {
   "cell_type": "code",
   "execution_count": 24,
   "id": "92d78440-953a-4dee-a7cc-3ff1b54e8d86",
   "metadata": {},
   "outputs": [
    {
     "data": {
      "image/png": "[encoded data removed]",
      "text/plain": [
       "<Figure size 640x480 with 1 Axes>"
      ]
     },
     "metadata": {},
     "output_type": "display_data"
    }
   ],
   "source": [
    "yellow_tripdata_2023_01_no_outliers.duration.plot(title=\"Distribution of `DURATION` after we dropped outliers\");"
   ]
  },
  {
   "cell_type": "code",
   "execution_count": 26,
   "id": "7f935656-2d52-4d14-8945-36853b29be96",
   "metadata": {},
   "outputs": [],
   "source": [
    "#dropna\n",
    "nona_df = yellow_tripdata_2023_01_no_outliers.dropna(subset=['duration'])"
   ]
  },
  {
   "cell_type": "code",
   "execution_count": 27,
   "id": "2fba53f6-5118-4979-b603-0b6b8f588feb",
   "metadata": {},
   "outputs": [
    {
     "data": {
      "text/plain": [
       "0"
      ]
     },
     "execution_count": 27,
     "metadata": {},
     "output_type": "execute_result"
    }
   ],
   "source": [
    "nona_df.duration.isna().sum()"
   ]
  },
  {
   "cell_type": "markdown",
   "id": "b5f7bc0f-fa96-42df-801c-8b1d5bbeb1dd",
   "metadata": {},
   "source": [
    "#### What fraction of the records left after you dropped the outliers?"
   ]
  },
  {
   "cell_type": "code",
   "execution_count": 28,
   "id": "a06d9882-82bc-40eb-954e-ebabde6e5431",
   "metadata": {
    "colab": {
     "base_uri": "https://localhost:8080/"
    },
    "id": "a06d9882-82bc-40eb-954e-ebabde6e5431",
    "outputId": "b318ae8f-3d3c-4115-8111-9415bd7def9b"
   },
   "outputs": [
    {
     "name": "stdout",
     "output_type": "stream",
     "text": [
      "After we dropped the outliers, the fraction of 98% of records is left\n"
     ]
    }
   ],
   "source": [
    "print(f'After we dropped the outliers, the fraction of {round(len(nona_df)/len(yellow_tripdata_2023_01)*100)}% of records is left')"
   ]
  },
  {
   "cell_type": "markdown",
   "id": "00b428a6-3438-4482-91fb-04ed17f5fe8d",
   "metadata": {
    "id": "00b428a6-3438-4482-91fb-04ed17f5fe8d"
   },
   "source": [
    "### Q4. One-hot encoding"
   ]
  },
  {
   "cell_type": "markdown",
   "id": "5011d67f-01b5-4d68-82d4-fb4e9ef10175",
   "metadata": {},
   "source": [
    "#### Let's apply one-hot encoding to the pickup and dropoff location IDs. We'll use only these two features for our model. \n",
    "\n"
   ]
  },
  {
   "cell_type": "code",
   "execution_count": 32,
   "id": "520b812f-b053-4d3e-91dc-e5206f4dc8d6",
   "metadata": {},
   "outputs": [
    {
     "data": {
      "text/plain": [
       "numpy.float64"
      ]
     },
     "execution_count": 32,
     "metadata": {},
     "output_type": "execute_result"
    }
   ],
   "source": [
    "#check the dtype before the cast\n",
    "type(nona_df['PULocationID'][0])"
   ]
  },
  {
   "cell_type": "code",
   "execution_count": 33,
   "id": "b8e00a38-78a9-4df7-9895-41e3c2921099",
   "metadata": {},
   "outputs": [],
   "source": [
    "df_encoded = nona_df[['PULocationID', 'DOLocationID']].astype(str)"
   ]
  },
  {
   "cell_type": "code",
   "execution_count": 34,
   "id": "dc4b8261-9ecb-458e-9e78-406c4cc9efab",
   "metadata": {},
   "outputs": [
    {
     "data": {
      "text/plain": [
       "str"
      ]
     },
     "execution_count": 34,
     "metadata": {},
     "output_type": "execute_result"
    }
   ],
   "source": [
    "#check the dtype after the cast\n",
    "type(df_encoded.PULocationID[0])"
   ]
  },
  {
   "cell_type": "markdown",
   "id": "b9d041d7-99d3-461e-becc-99a324a1c2a2",
   "metadata": {},
   "source": [
    "#### Turn the dataframe into a list of dictionaries (remember to re-cast the ids to strings - otherwise it will label encode them)\n"
   ]
  },
  {
   "cell_type": "code",
   "execution_count": 36,
   "id": "96043224-1a51-4922-901c-c660b0bc8a5b",
   "metadata": {
    "id": "96043224-1a51-4922-901c-c660b0bc8a5b"
   },
   "outputs": [],
   "source": [
    "df_dicts = df_encoded.to_dict(orient='records')"
   ]
  },
  {
   "cell_type": "markdown",
   "id": "e0956222-ac88-47b9-a6f1-6da0aa010f06",
   "metadata": {},
   "source": [
    "#### Fit a dictionary vectorizer \n"
   ]
  },
  {
   "cell_type": "code",
   "execution_count": 38,
   "id": "38161135-016e-4022-a20c-6f3a2c18378b",
   "metadata": {},
   "outputs": [],
   "source": [
    "vectorizer = DictVectorizer()\n",
    "X_train = vectorizer.fit_transform(df_dicts)"
   ]
  },
  {
   "cell_type": "markdown",
   "id": "9aaa81eb-767f-4830-927a-b6ad711b6e26",
   "metadata": {},
   "source": [
    "#### Get a feature matrix from it\n"
   ]
  },
  {
   "cell_type": "code",
   "execution_count": 40,
   "id": "8ef5cc67-57a8-4b77-ac74-65333902b991",
   "metadata": {},
   "outputs": [
    {
     "data": {
      "text/plain": [
       "<3009173x515 sparse matrix of type '<class 'numpy.float64'>'\n",
       "\twith 6018346 stored elements in Compressed Sparse Row format>"
      ]
     },
     "execution_count": 40,
     "metadata": {},
     "output_type": "execute_result"
    }
   ],
   "source": [
    "X_train"
   ]
  },
  {
   "cell_type": "markdown",
   "id": "efa4622f-0b3d-4723-86ac-2df2ea18d820",
   "metadata": {},
   "source": [
    "\n",
    "#### What's the dimensionality of this matrix (number of columns)?"
   ]
  },
  {
   "cell_type": "code",
   "execution_count": 42,
   "id": "52cc2a2c-fd67-456e-b554-01463f5b6ff7",
   "metadata": {},
   "outputs": [
    {
     "name": "stdout",
     "output_type": "stream",
     "text": [
      "The dimensionality of this matrix is (3009173, 515),\n",
      " Number of columns is 515\n"
     ]
    }
   ],
   "source": [
    "print(f'The dimensionality of this matrix is {X_train.shape},\\n Number of columns is {X_train.shape[1]}')"
   ]
  },
  {
   "cell_type": "markdown",
   "id": "bb9c2670-07b9-4813-9798-d367fc6535fe",
   "metadata": {
    "id": "bb9c2670-07b9-4813-9798-d367fc6535fe"
   },
   "source": [
    "### Q5. Training a model"
   ]
  },
  {
   "cell_type": "markdown",
   "id": "9227a2c2-8b60-4d6d-b11e-282379e3a3e5",
   "metadata": {
    "id": "8853a0e2-7d3f-46e6-a45d-eeadc7c65bd1"
   },
   "source": [
    "#### Now let's use the feature matrix from the previous step to train a model. \n"
   ]
  },
  {
   "cell_type": "code",
   "execution_count": 45,
   "id": "098c5ff8-8e41-41a6-a7cd-760f9c79c1f9",
   "metadata": {
    "id": "098c5ff8-8e41-41a6-a7cd-760f9c79c1f9"
   },
   "outputs": [],
   "source": [
    "y_train = nona_df['duration'].values"
   ]
  },
  {
   "cell_type": "markdown",
   "id": "2e26c15e-743a-4b00-927c-3bd7de250a2d",
   "metadata": {
    "id": "f89a6a92-bc5b-4aac-9366-aa9ea7029df6"
   },
   "source": [
    "\n",
    "#### Train a plain linear regression model with default parameters, where duration is the response variable\n"
   ]
  },
  {
   "cell_type": "code",
   "execution_count": 47,
   "id": "3bb3cef4-bb13-4b20-a1ba-0c23b27062de",
   "metadata": {
    "id": "3bb3cef4-bb13-4b20-a1ba-0c23b27062de"
   },
   "outputs": [],
   "source": [
    "logreg = LinearRegression()\n",
    "logreg.fit(X_train, y_train)\n",
    "\n",
    "y_pred = logreg.predict(X_train)"
   ]
  },
  {
   "cell_type": "markdown",
   "id": "3a98e8c7-bedd-42ba-8e24-75c9f969f368",
   "metadata": {},
   "source": [
    "#### Calculate the RMSE of the model on the training data\n",
    "\n"
   ]
  },
  {
   "cell_type": "code",
   "execution_count": 49,
   "id": "bfb1d21f-23e8-411d-b70d-748b9b672efb",
   "metadata": {
    "colab": {
     "base_uri": "https://localhost:8080/"
    },
    "id": "bfb1d21f-23e8-411d-b70d-748b9b672efb",
    "outputId": "46aafa55-2e06-4f5b-b0cf-a14353d3dd95"
   },
   "outputs": [],
   "source": [
    "rmse = mean_squared_error(y_train, y_pred, squared=False)"
   ]
  },
  {
   "cell_type": "markdown",
   "id": "5d6fb002-5305-4365-8d76-f45d9a075f46",
   "metadata": {},
   "source": [
    "#### What's the RMSE on train?"
   ]
  },
  {
   "cell_type": "code",
   "execution_count": 51,
   "id": "f400ffea-79d5-47d7-a125-729b213396ff",
   "metadata": {},
   "outputs": [
    {
     "name": "stdout",
     "output_type": "stream",
     "text": [
      "RMSE of the model on the training data is 7.649\n"
     ]
    }
   ],
   "source": [
    "print(f'RMSE of the model on the training data is {round(rmse,3)}')"
   ]
  },
  {
   "cell_type": "markdown",
   "id": "5259854b-65a5-4fd0-a8b9-87a41ce4835d",
   "metadata": {
    "id": "5259854b-65a5-4fd0-a8b9-87a41ce4835d"
   },
   "source": [
    "### Q6. Evaluating the model"
   ]
  },
  {
   "cell_type": "markdown",
   "id": "6623409b-8aaf-430e-bcde-d9fbf0ccb99c",
   "metadata": {},
   "source": [
    "#### Now let's apply this model to the validation dataset (February 2023). \n",
    "\n",
    "\n"
   ]
  },
  {
   "cell_type": "code",
   "execution_count": 55,
   "id": "29c6b8a3-9a1a-4e8b-a89f-20f216e789b0",
   "metadata": {},
   "outputs": [],
   "source": [
    "# Read the data from feb dataset\n",
    "yellow_tripdata_2023_02 = pd.read_parquet('yellow_tripdata_2023-02.parquet')\n",
    "# Computing duration\n",
    "yellow_tripdata_2023_02['duration'] = yellow_tripdata_2023_02.apply(lambda x: x['tpep_dropoff_datetime']-x['tpep_pickup_datetime'],axis=1 ).dt.total_seconds()/60\n",
    "# Drop outliers\n",
    "yellow_tripdata_2023_02_no_outliers = yellow_tripdata_2023_02.where((yellow_tripdata_2023_02.duration >=1) & (yellow_tripdata_2023_02.duration<=60))\n",
    "# Dropna\n",
    "nona_df_feb = yellow_tripdata_2023_02_no_outliers.dropna(subset=['duration'])\n",
    "# Cast to str\n",
    "df_encoded_feb = nona_df_feb[['PULocationID', 'DOLocationID']].astype(str)\n",
    "# Turn to dict\n",
    "df_dicts_feb = df_encoded_feb.to_dict(orient='records')\n",
    "# Vectorize with the same vectorizer\n",
    "X_test = vectorizer.transform(df_dicts_feb)\n",
    "# Predict on test data\n",
    "y_pred_test = logreg.predict(X_test)\n",
    "# Calcukare rmse\n",
    "y_test = nona_df_feb['duration'].values\n",
    "rmse_val = mean_squared_error(y_test, y_pred_test, squared=False)"
   ]
  },
  {
   "cell_type": "markdown",
   "id": "b08d8c4e-a9e2-494e-a2a9-9028035cfe05",
   "metadata": {},
   "source": [
    "#### What's the RMSE on validation?"
   ]
  },
  {
   "cell_type": "code",
   "execution_count": 57,
   "id": "b4f14e45-1f99-4389-96d6-55727e32c645",
   "metadata": {},
   "outputs": [
    {
     "name": "stdout",
     "output_type": "stream",
     "text": [
      "RMSE of the model on the  validation data is 7.812\n"
     ]
    }
   ],
   "source": [
    "print(f'RMSE of the model on the  validation data is {round(rmse_val,3)}')"
   ]
  },
  {
   "cell_type": "code",
   "execution_count": null,
   "id": "d14a6d72-339a-4d5f-81bb-e33d33ca327b",
   "metadata": {},
   "outputs": [],
   "source": []
  }
 ],
 "metadata": {
  "colab": {
   "provenance": []
  },
  "kernelspec": {
   "display_name": "Python 3 (ipykernel)",
   "language": "python",
   "name": "python3"
  },
  "language_info": {
   "codemirror_mode": {
    "name": "ipython",
    "version": 3
   },
   "file_extension": ".py",
   "mimetype": "text/x-python",
   "name": "python",
   "nbconvert_exporter": "python",
   "pygments_lexer": "ipython3",
   "version": "3.9.19"
  }
 },
 "nbformat": 4,
 "nbformat_minor": 5
}
